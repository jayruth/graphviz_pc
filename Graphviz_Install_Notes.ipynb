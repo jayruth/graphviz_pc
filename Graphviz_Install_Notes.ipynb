{
 "cells": [
  {
   "cell_type": "code",
   "execution_count": 1,
   "metadata": {},
   "outputs": [
    {
     "name": "stderr",
     "output_type": "stream",
     "text": [
      "Using TensorFlow backend.\n"
     ]
    }
   ],
   "source": [
    "from keras.models import Sequential\n",
    "from keras.layers import Dense\n",
    "from keras.losses import mean_squared_error"
   ]
  },
  {
   "cell_type": "code",
   "execution_count": 2,
   "metadata": {},
   "outputs": [
    {
     "name": "stdout",
     "output_type": "stream",
     "text": [
      "_________________________________________________________________\n",
      "Layer (type)                 Output Shape              Param #   \n",
      "=================================================================\n",
      "dense_1 (Dense)              (None, 10, 10)            20        \n",
      "_________________________________________________________________\n",
      "dense_2 (Dense)              (None, 10, 20)            220       \n",
      "_________________________________________________________________\n",
      "dense_3 (Dense)              (None, 10, 2)             42        \n",
      "=================================================================\n",
      "Total params: 282\n",
      "Trainable params: 282\n",
      "Non-trainable params: 0\n",
      "_________________________________________________________________\n"
     ]
    }
   ],
   "source": [
    "#initialize a model\n",
    "model = Sequential()\n",
    "model.add(Dense(10, activation='elu', input_shape=[10,1]))\n",
    "model.add(Dense(20, activation='elu'))\n",
    "model.add(Dense(2, activation='elu'))          \n",
    "model.compile(loss = mean_squared_error,\n",
    "                  optimizer = \"adam\")\n",
    "model.summary()"
   ]
  },
  {
   "cell_type": "markdown",
   "metadata": {},
   "source": [
    "### Keras can also make a plot of a model\n",
    "https://keras.io/visualization/"
   ]
  },
  {
   "cell_type": "code",
   "execution_count": 3,
   "metadata": {},
   "outputs": [
    {
     "data": {
      "image/png": "[encoded data removed]",
      "text/plain": [
       "<IPython.core.display.Image object>"
      ]
     },
     "execution_count": 3,
     "metadata": {},
     "output_type": "execute_result"
    }
   ],
   "source": [
    "from keras.utils import plot_model\n",
    "from IPython.display import Image\n",
    "plot_model(model, to_file='model.png', show_shapes=True)\n",
    "Image('model.png')"
   ]
  },
  {
   "cell_type": "markdown",
   "metadata": {},
   "source": [
    "### If you don't have graphviz, you may get an error like this instead of a nice plot:\n",
    "\n",
    "OSError: `pydot` failed to call GraphViz.Please install GraphViz (https://www.graphviz.org/) and ensure that its executables are in the $PATH.\n",
    "\n",
    "### To get everything you need on PC you can do the following:\n",
    "\n",
    "**Install Graphviz Executable:**  \n",
    "conda install graphviz\n",
    "\n",
    "**Add this to your path**\n",
    "- Find where this installed in your python environment -  ex. Miniconda3\\envs\\my_environment\\Library\\bin\\graphviz \n",
    "- Open control panel\n",
    "- Select \"System\"\n",
    "- Select \"Advanced System Settings\"\n",
    "- Click \"Environment Variables\"\n",
    "- Select Path under \"System Variables\"\n",
    "- Click Edit\n",
    "- Click New\n",
    "- Paste the location of graphviz from above\n",
    "- Click OK to close all dialog boxes\n",
    "- Restart\n",
    "\n",
    "<img src=\"graphviz.png\">\n",
    "\n",
    "**Finally, install graph viz for python**  \n",
    "conda install pydot (this is the package Keras uses, others available)"
   ]
  },
  {
   "cell_type": "code",
   "execution_count": null,
   "metadata": {},
   "outputs": [],
   "source": []
  }
 ],
 "metadata": {
  "kernelspec": {
   "display_name": "Python 3",
   "language": "python",
   "name": "python3"
  },
  "language_info": {
   "codemirror_mode": {
    "name": "ipython",
    "version": 3
   },
   "file_extension": ".py",
   "mimetype": "text/x-python",
   "name": "python",
   "nbconvert_exporter": "python",
   "pygments_lexer": "ipython3",
   "version": "3.6.6"
  }
 },
 "nbformat": 4,
 "nbformat_minor": 2
}
